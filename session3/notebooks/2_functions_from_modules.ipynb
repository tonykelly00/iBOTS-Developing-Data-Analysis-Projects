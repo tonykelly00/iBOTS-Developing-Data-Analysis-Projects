{
 "cells": [
  {
   "cell_type": "markdown",
   "metadata": {},
   "source": [
    "## Using functions from Python modules\n",
    "\n",
    "Placing all your functions directly in a notebook can lead to clutter and complexity, particularly as your project expands, making it harder to navigate and maintain. Also, we probably want to use some of these functions in other notebooks too. Organizing functions into modules is a smarter approach, offering clarity, structure, and reusability.\n",
    "\n",
    "### What are Python modules?\n",
    "Python modules are python files (i.e. with a `.py` extension) where we store our python code that we tend to re-use (e.g. python functions) in other places (notebooks, CLIs, etc.). Python modules are usually stored in a folder called `src` (which stands for *source*). Once we store our functions in Python modules, we can then import them and use them. \n",
    "\n",
    "In this notebook, instead of defining the functions here, we are going to store them inside Python modules and import them inside the notebook."
   ]
  },
  {
   "cell_type": "markdown",
   "metadata": {},
   "source": [
    "**Example**: Create a Python module called `stats.py` in the folder `src`. Move the `calculate_mean` function in it. Import the function from the module and make sure it works by testing a couple of different cases."
   ]
  },
  {
   "cell_type": "code",
   "execution_count": 1,
   "metadata": {},
   "outputs": [],
   "source": [
    "# First we need to make sure our python environment knows about the folder \"src\" (we only need to do this once)\n",
    "import sys\n",
    "sys.path.append('../src')"
   ]
  },
  {
   "cell_type": "code",
   "execution_count": 2,
   "metadata": {},
   "outputs": [],
   "source": [
    "from stats import calculate_mean"
   ]
  },
  {
   "cell_type": "code",
   "execution_count": 3,
   "metadata": {},
   "outputs": [
    {
     "data": {
      "text/plain": [
       "0    True\n",
       "dtype: bool"
      ]
     },
     "execution_count": 3,
     "metadata": {},
     "output_type": "execute_result"
    }
   ],
   "source": [
    "data = [1, 4, 7]\n",
    "mean = calculate_mean(data)\n",
    "\n",
    "mean == 4"
   ]
  },
  {
   "cell_type": "code",
   "execution_count": 4,
   "metadata": {},
   "outputs": [
    {
     "data": {
      "text/plain": [
       "0    True\n",
       "dtype: bool"
      ]
     },
     "execution_count": 4,
     "metadata": {},
     "output_type": "execute_result"
    }
   ],
   "source": [
    "data = [3, 3, 5, 7, 7]\n",
    "mean = calculate_mean(data)\n",
    "\n",
    "mean == 5"
   ]
  },
  {
   "cell_type": "markdown",
   "metadata": {},
   "source": [
    "**Exercise**: Add a function called `calcualte_std` to the `stats.py` module such that following code runs. Compare the result of this function with Numpy's `std` method. Do they yield the same value?"
   ]
  },
  {
   "cell_type": "code",
   "execution_count": 5,
   "metadata": {},
   "outputs": [],
   "source": [
    "import numpy as np\n",
    "from stats import calculate_std"
   ]
  },
  {
   "cell_type": "code",
   "execution_count": 6,
   "metadata": {},
   "outputs": [
    {
     "data": {
      "text/plain": [
       "0    False\n",
       "dtype: bool"
      ]
     },
     "execution_count": 6,
     "metadata": {},
     "output_type": "execute_result"
    }
   ],
   "source": [
    "data = [-8, -4, 0, 4, 8]\n",
    "std = calculate_std(data)\n",
    "\n",
    "std == np.std(data)"
   ]
  },
  {
   "cell_type": "markdown",
   "metadata": {},
   "source": [
    "**Exercise**: Add a function called `calcualte_median` to the `stats.py` module such that following code runs."
   ]
  },
  {
   "cell_type": "code",
   "execution_count": 8,
   "metadata": {},
   "outputs": [],
   "source": [
    "from stats import calculate_median"
   ]
  },
  {
   "cell_type": "code",
   "execution_count": 16,
   "metadata": {},
   "outputs": [
    {
     "data": {
      "text/plain": [
       "0    True\n",
       "dtype: bool"
      ]
     },
     "execution_count": 16,
     "metadata": {},
     "output_type": "execute_result"
    }
   ],
   "source": [
    "data = [1, 4, 2, 2, 3, 4, 5]\n",
    "\n",
    "median = calculate_median(data)\n",
    "\n",
    "median == 3"
   ]
  },
  {
   "cell_type": "markdown",
   "metadata": {},
   "source": [
    "**Exercise**: Create a new Python module called `transformations.py`. Add a function called `normalize` to the `transformations.py` module such that following code runs."
   ]
  },
  {
   "cell_type": "code",
   "execution_count": 23,
   "metadata": {},
   "outputs": [],
   "source": [
    "from transformations import normalize"
   ]
  },
  {
   "cell_type": "code",
   "execution_count": 24,
   "metadata": {},
   "outputs": [
    {
     "name": "stdout",
     "output_type": "stream",
     "text": [
      "[1, 4, 2, 2, 3, 4, 5]\n"
     ]
    },
    {
     "ename": "AttributeError",
     "evalue": "'list' object has no attribute 'min'",
     "output_type": "error",
     "traceback": [
      "\u001b[1;31m---------------------------------------------------------------------------\u001b[0m",
      "\u001b[1;31mAttributeError\u001b[0m                            Traceback (most recent call last)",
      "Cell \u001b[1;32mIn[24], line 2\u001b[0m\n\u001b[0;32m      1\u001b[0m \u001b[38;5;28mprint\u001b[39m(data)\n\u001b[1;32m----> 2\u001b[0m data_normalized \u001b[38;5;241m=\u001b[39m normalize(data)\n\u001b[0;32m      4\u001b[0m data_normalized\u001b[38;5;241m.\u001b[39mmin() \u001b[38;5;241m==\u001b[39m \u001b[38;5;241m0\u001b[39m, data_normalized\u001b[38;5;241m.\u001b[39mmax() \u001b[38;5;241m==\u001b[39m \u001b[38;5;241m1\u001b[39m\n",
      "File \u001b[1;32mc:\\Users\\Tony Kelly\\Desktop\\iBOT_project\\iBOTS-Developing-Data-Analysis-Projects\\session3\\notebooks\\../src\\transformations.py:7\u001b[0m, in \u001b[0;36mnormalize\u001b[1;34m(data, min_val, max_val)\u001b[0m\n\u001b[0;32m      4\u001b[0m \u001b[38;5;28;01mdef\u001b[39;00m \u001b[38;5;21mnormalize\u001b[39m(data, min_val\u001b[38;5;241m=\u001b[39m\u001b[38;5;241m0\u001b[39m, max_val\u001b[38;5;241m=\u001b[39m\u001b[38;5;241m1\u001b[39m):\n\u001b[0;32m      5\u001b[0m \n\u001b[0;32m      6\u001b[0m     \u001b[38;5;66;03m#step1\u001b[39;00m\n\u001b[1;32m----> 7\u001b[0m     data_normed \u001b[38;5;241m=\u001b[39m data \u001b[38;5;241m-\u001b[39m data\u001b[38;5;241m.\u001b[39mmin()\n\u001b[0;32m      8\u001b[0m     data_normed \u001b[38;5;241m=\u001b[39m data_normed\u001b[38;5;241m/\u001b[39mdata_normed\u001b[38;5;241m.\u001b[39mmax()\n\u001b[0;32m     10\u001b[0m     data_normed\u001b[38;5;241m=\u001b[39mdata_normed\u001b[38;5;241m*\u001b[39m(max_val\u001b[38;5;241m-\u001b[39mmin_val)\u001b[38;5;241m+\u001b[39mmin_val\n",
      "\u001b[1;31mAttributeError\u001b[0m: 'list' object has no attribute 'min'"
     ]
    }
   ],
   "source": [
    "print(data)\n",
    "data_normalized = normalize(data)\n",
    "\n",
    "data_normalized.min() == 0, data_normalized.max() == 1"
   ]
  },
  {
   "cell_type": "markdown",
   "metadata": {},
   "source": [
    "**Exercise**: Let's use a function to plot and compare the original data vs the standardized and the normalized version. Create a new Python module called `visualizations.py`. Add a function called `plot_histogram` to the `visualizations.py` module. Import the function and use it to plot `data`, `data_standardized`, and `data_normalized`, each in a different cell."
   ]
  },
  {
   "cell_type": "code",
   "execution_count": null,
   "metadata": {},
   "outputs": [],
   "source": [
    "import matplotlib.pyplot as plt\n",
    "from visualizations import plot_histogram"
   ]
  },
  {
   "cell_type": "code",
   "execution_count": null,
   "metadata": {},
   "outputs": [],
   "source": [
    "plot_histogram(data)\n",
    "plt.xlim(-5, 15)"
   ]
  },
  {
   "cell_type": "code",
   "execution_count": null,
   "metadata": {},
   "outputs": [],
   "source": [
    "plot_histogram(data_standardized)\n",
    "plt.xlim(-5, 15)"
   ]
  },
  {
   "cell_type": "code",
   "execution_count": null,
   "metadata": {},
   "outputs": [],
   "source": [
    "plot_histogram(data_normalized)\n",
    "plt.xlim(-5, 15)"
   ]
  }
 ],
 "metadata": {
  "kernelspec": {
   "display_name": "Python 3 (ipykernel)",
   "language": "python",
   "name": "python3"
  },
  "language_info": {
   "codemirror_mode": {
    "name": "ipython",
    "version": 3
   },
   "file_extension": ".py",
   "mimetype": "text/x-python",
   "name": "python",
   "nbconvert_exporter": "python",
   "pygments_lexer": "ipython3",
   "version": "3.11.5"
  }
 },
 "nbformat": 4,
 "nbformat_minor": 4
}
